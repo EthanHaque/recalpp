{
 "cells": [
  {
   "cell_type": "code",
   "execution_count": 48,
   "metadata": {},
   "outputs": [],
   "source": [
    "search = \"LA cd EM COS 333\""
   ]
  },
  {
   "cell_type": "code",
   "execution_count": 49,
   "metadata": {},
   "outputs": [],
   "source": [
    "distributions = set((\"CD\", \"EC\", \"EM\",  \"HA\", \"LA\", \"SA\", \"QCR\", \"SEL\", \"SEN\"))\n"
   ]
  },
  {
   "cell_type": "code",
   "execution_count": 50,
   "metadata": {},
   "outputs": [],
   "source": [
    "def handle_query(query: str, parsed_search: dict):\n",
    "   query = query.upper()\n",
    "   if query in distributions:\n",
    "      parsed_search[\"distributions\"].append(query)\n",
    "      return\n",
    "   \n",
    "   if query.isalpha():\n",
    "      parsed_search[\"course_code\"] = query"
   ]
  },
  {
   "cell_type": "code",
   "execution_count": 51,
   "metadata": {},
   "outputs": [],
   "source": [
    "def parse_search(search: str):\n",
    "   queries = search.split()\n",
    "\n",
    "   parsed_search = {\"distributions\": [], \"course_number\": \"\", \"course_code\": \"\"}\n",
    "\n",
    "   for query in queries:\n",
    "      handle_query(query, parsed_search)\n",
    "   \n",
    "   return parsed_search"
   ]
  },
  {
   "cell_type": "code",
   "execution_count": 52,
   "metadata": {},
   "outputs": [
    {
     "name": "stdout",
     "output_type": "stream",
     "text": [
      "{'distributions': ['LA', 'CD', 'EM'], 'course_number': '', 'course_code': 'THE'}\n"
     ]
    }
   ],
   "source": [
    "print(parse_search(search))"
   ]
  }
 ],
 "metadata": {
  "kernelspec": {
   "display_name": "cos333",
   "language": "python",
   "name": "python3"
  },
  "language_info": {
   "codemirror_mode": {
    "name": "ipython",
    "version": 3
   },
   "file_extension": ".py",
   "mimetype": "text/x-python",
   "name": "python",
   "nbconvert_exporter": "python",
   "pygments_lexer": "ipython3",
   "version": "3.9.12"
  },
  "orig_nbformat": 4
 },
 "nbformat": 4,
 "nbformat_minor": 2
}
