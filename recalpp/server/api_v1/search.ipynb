{
 "cells": [
  {
   "cell_type": "code",
   "execution_count": 80,
   "metadata": {},
   "outputs": [],
   "source": [
    "search1 = \"LA cd EM COS 333\"\n",
    "search2 = \"LA cd EM COS324\""
   ]
  },
  {
   "cell_type": "code",
   "execution_count": 81,
   "metadata": {},
   "outputs": [],
   "source": [
    "distributions = set((\"CD\", \"EC\", \"EM\",  \"HA\", \"LA\", \"SA\", \"QCR\", \"SEL\", \"SEN\"))"
   ]
  },
  {
   "cell_type": "code",
   "execution_count": 82,
   "metadata": {},
   "outputs": [],
   "source": [
    "import re\n",
    "\n",
    "def handle_query(query: str, parsed_search: dict):\n",
    "   query = query.upper()\n",
    "   if query in distributions:\n",
    "      parsed_search[\"distributions\"].append(query)\n",
    "      return\n",
    "   \n",
    "   if query.isalpha():\n",
    "      parsed_search[\"course_code\"] = query\n",
    "      return\n",
    "\n",
    "   if query.isnumeric():\n",
    "      parsed_search[\"course_number\"] = query\n",
    "      return\n",
    "\n",
    "   parsed_search[\"course_code\"] = re.sub(r\"[A-Z]{3}\", \"\", query)\n",
    "   parsed_search[\"course_number\"] = re.sub(r\"\\d{1,3}\", \"\", query)\n",
    "   return"
   ]
  },
  {
   "cell_type": "code",
   "execution_count": 83,
   "metadata": {},
   "outputs": [],
   "source": [
    "def parse_search(search: str):\n",
    "   queries = search.split()\n",
    "\n",
    "   parsed_search = {\"distributions\": [], \"course_number\": \"\", \"course_code\": \"\"}\n",
    "\n",
    "   for query in queries:\n",
    "      handle_query(query, parsed_search)\n",
    "   \n",
    "   return parsed_search"
   ]
  },
  {
   "cell_type": "code",
   "execution_count": 84,
   "metadata": {},
   "outputs": [
    {
     "name": "stdout",
     "output_type": "stream",
     "text": [
      "{'distributions': ['LA', 'CD', 'EM'], 'course_number': '333', 'course_code': 'COS'}\n"
     ]
    }
   ],
   "source": [
    "print(parse_search(search1))"
   ]
  },
  {
   "cell_type": "code",
   "execution_count": 85,
   "metadata": {},
   "outputs": [
    {
     "name": "stdout",
     "output_type": "stream",
     "text": [
      "{'distributions': ['LA', 'CD', 'EM'], 'course_number': 'COS', 'course_code': '324'}\n"
     ]
    }
   ],
   "source": [
    "print(parse_search(search2))"
   ]
  }
 ],
 "metadata": {
  "kernelspec": {
   "display_name": "cos333",
   "language": "python",
   "name": "python3"
  },
  "language_info": {
   "codemirror_mode": {
    "name": "ipython",
    "version": 3
   },
   "file_extension": ".py",
   "mimetype": "text/x-python",
   "name": "python",
   "nbconvert_exporter": "python",
   "pygments_lexer": "ipython3",
   "version": "3.9.12"
  },
  "orig_nbformat": 4
 },
 "nbformat": 4,
 "nbformat_minor": 2
}
